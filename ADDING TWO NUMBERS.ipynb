{
 "cells": [
  {
   "cell_type": "code",
   "execution_count": null,
   "id": "c00c4b1b-a711-42af-99c4-b3030ea90773",
   "metadata": {},
   "outputs": [],
   "source": [
    "#adding two numbers given by the user\n",
    "x=int(input(\"Enter a number:\"))\n",
    "y=int(input(\"Enter another number:\"))\n",
    "print(x+y)"
   ]
  }
 ],
 "metadata": {
  "kernelspec": {
   "display_name": "Python [conda env:base] *",
   "language": "python",
   "name": "conda-base-py"
  },
  "language_info": {
   "codemirror_mode": {
    "name": "ipython",
    "version": 3
   },
   "file_extension": ".py",
   "mimetype": "text/x-python",
   "name": "python",
   "nbconvert_exporter": "python",
   "pygments_lexer": "ipython3",
   "version": "3.12.7"
  }
 },
 "nbformat": 4,
 "nbformat_minor": 5
}
